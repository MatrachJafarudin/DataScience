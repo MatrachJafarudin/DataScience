{
  "nbformat": 4,
  "nbformat_minor": 0,
  "metadata": {
    "colab": {
      "provenance": [],
      "authorship_tag": "ABX9TyPOiErl3YcL5ZJoWIA+Aj4p",
      "include_colab_link": true
    },
    "kernelspec": {
      "name": "python3",
      "display_name": "Python 3"
    },
    "language_info": {
      "name": "python"
    }
  },
  "cells": [
    {
      "cell_type": "markdown",
      "metadata": {
        "id": "view-in-github",
        "colab_type": "text"
      },
      "source": [
        "<a href=\"https://colab.research.google.com/github/AdheFirmansyah/DataScience/blob/main/Taskupwork_4.ipynb\" target=\"_parent\"><img src=\"https://colab.research.google.com/assets/colab-badge.svg\" alt=\"Open In Colab\"/></a>"
      ]
    },
    {
      "cell_type": "code",
      "source": [
        "from sklearn.model_selection import train_test_split\n",
        "from sklearn.tree import DecisionTreeClassifier\n",
        "import sklearn.metrics as metrics\n",
        "import pandas as pd"
      ],
      "metadata": {
        "id": "dhB-NuNecBqo"
      },
      "execution_count": 2,
      "outputs": []
    },
    {
      "cell_type": "code",
      "execution_count": 1,
      "metadata": {
        "id": "S8xZI-Irb6-o"
      },
      "outputs": [],
      "source": [
        "cart = { \"name\":\"X\", \"mean\":456, \"split_by_feature\": \"aes\", \"error_of_split\": 0.0,\n",
        "        \"successor_left\": { \"name\":\"XL\", \"mean\":1234, \"split_by_feature\": None, \"error_of_split\":None,\n",
        "                           \"successor_left\":None,\n",
        "                           \"successor_right\":None\n",
        "                          },\n",
        "        \"successor_right\":{ \"name\":\"XR\", \"mean\":258, \"split_by_feature\": None,\"error_of_split\":None,\n",
        "                           \"successor_left\":None,\n",
        "                           \"successor_right\":None\n",
        "                          }\n",
        "       }\n",
        "\n",
        "features = [\"secompress\", \"encryption\", \"aes\", \"blowfish\", \"algorithm\", \"rar\", \"zip\", \"signature\",\n",
        "            \"timestamp\", \"segmentation\", \"onehundredmb\", \"onegb\"]"
      ]
    },
    {
      "cell_type": "code",
      "source": [
        "def get_cart(sample_set_csv):\n",
        "    # The sample_set_csv is a file path to a csv data, this can be imported into a dataframe\n",
        "    df = pd.read_csv(sample_set_csv)\n",
        "    # Split dataset into train and test\n",
        "    X_train, X_test, y_train, y_test = train_test_split(df.drop(['performance'], axis=1), df['performance'], test_size=0.2, random_state=42)\n",
        "    # Create Decision Tree model\n",
        "    cart_model = DecisionTreeClassifier(criterion='entropy', splitter='best')\n",
        "    # Train the model\n",
        "    cart_model.fit(X_train, y_train)\n",
        "    # Evaluation of the model\n",
        "    y_pred = cart_model.predict(X_test)\n",
        "    accuracy = metrics.accuracy_score(y_test, y_pred)\n",
        "    features = list(df.columns)\n",
        "    feature_importance = dict(zip(features, cart_model.feature_importances_))\n",
        "    # Return CART as a dictionary\n",
        "    return {\"name\":\"X\", \"mean\":accuracy, \"split_by_feature\": max(feature_importance, key=feature_importance.get), \"error_of_split\":1-accuracy,\n",
        "            \"successor_left\":None,\"successor_right\":None}\n",
        "\n",
        "def get_error_rate(cart, sample_set_csv):\n",
        "    # The sample_set_csv is a file path to a csv data, this can be imported into a dataframe\n",
        "    df = pd.read_csv(sample_set_csv)\n",
        "    # Use the CART to predict the values for the sample set\n",
        "    y_pred = cart_model.predict(df.drop(['performance'], axis=1))\n",
        "    # Test Calculate the error rate\n",
        "    error = sum(y_pred != df['performance']) / len(df)\n",
        "    return error\n",
        "\n",
        "    \n",
        "# def get_highest_influence_feature(cart):\n",
        "#     feature_count = {}\n",
        "#     def traverse_tree(node):\n",
        "#         if node[\"split_by_feature\"] != None:\n",
        "#             if node[\"split_by_feature\"] in feature_count:\n",
        "#                 feature_count[node[\"split_by_feature\"]] += 1\n",
        "#             else:\n",
        "#                 feature_count[node[\"split_by_feature\"]] = 1\n",
        "#             traverse_tree(node[\"successor_left\"])\n",
        "#             traverse_tree(node[\"successor_right\"])\n",
        "#     traverse_tree(cart)\n",
        "#     return max(feature_count, key=feature_count.get)\n",
        "\n",
        "\n",
        "\n",
        "# def get_optimal_configuration(cart, partial_configuration):\n",
        "#     features = set()\n",
        "#     def traverse_tree(node):\n",
        "#         if node[\"split_by_feature\"] != None:\n",
        "#             if node[\"split_by_feature\"] in partial_configuration:\n",
        "#                 features.add(node[\"split_by_feature\"])\n",
        "#                 if node[\"error_of_split\"] == 0:\n",
        "#                     return\n",
        "#             traverse_tree(node[\"successor_left\"])\n",
        "#             traverse_tree(node[\"successor_right\"])\n",
        "#     traverse_tree(cart_model)\n",
        "#     return features"
      ],
      "metadata": {
        "id": "Evnhb6j3b_t4"
      },
      "execution_count": 7,
      "outputs": []
    },
    {
      "cell_type": "code",
      "source": [
        "test_cart = {'name': 'X', 'mean': 763.2, 'split_by_feature': 'segmentation', 'error_of_split': 6.0, \n",
        "             'successor_left': \n",
        "                 {'name': 'XL', 'mean': 772.0, 'split_by_feature': 'onegb', 'error_of_split': 0.0, \n",
        "                  'successor_left': \n",
        "                      {'name': 'XLL', 'mean': 770.0, 'split_by_feature': None, 'error_of_split': None, \n",
        "                       'successor_left': None, \n",
        "                       'successor_right': None\n",
        "                      }, \n",
        "                  'successor_right': \n",
        "                      {'name': 'XLR', 'mean': 773.0, 'split_by_feature': None, 'error_of_split': None, \n",
        "                       'successor_left': None, \n",
        "                       'successor_right': None\n",
        "                      }\n",
        "                 }, \n",
        "             'successor_right': \n",
        "                 {'name': 'XR', 'mean': 750.0, 'split_by_feature': None, 'error_of_split': None, \n",
        "                  'successor_left': None, \n",
        "                  'successor_right': None}\n",
        "            }\n",
        "\n",
        "\n",
        "if get_cart(\"Performance_01.csv\") == test_cart:\n",
        "    print(\"passed\")\n",
        "else:\n",
        "    print(\"failed\")"
      ],
      "metadata": {
        "colab": {
          "base_uri": "https://localhost:8080/"
        },
        "id": "b0EUWo9hcI5G",
        "outputId": "c8d332de-e484-4098-cd81-7c7ad9a05f87"
      },
      "execution_count": 8,
      "outputs": [
        {
          "output_type": "stream",
          "name": "stdout",
          "text": [
            "failed\n"
          ]
        }
      ]
    },
    {
      "cell_type": "code",
      "source": [
        "if get_error_rate(test_cart, \"Performance_01.csv\") == 5:\n",
        "    print(\"passed\")\n",
        "else:\n",
        "    print(\"failed\")"
      ],
      "metadata": {
        "colab": {
          "base_uri": "https://localhost:8080/",
          "height": 339
        },
        "id": "1cwzQTxIcNie",
        "outputId": "f2060464-5e26-4336-d4ac-cf6163d69634"
      },
      "execution_count": 9,
      "outputs": [
        {
          "output_type": "error",
          "ename": "NameError",
          "evalue": "ignored",
          "traceback": [
            "\u001b[0;31m---------------------------------------------------------------------------\u001b[0m",
            "\u001b[0;31mNameError\u001b[0m                                 Traceback (most recent call last)",
            "\u001b[0;32m<ipython-input-9-eec9cc3ec5a0>\u001b[0m in \u001b[0;36m<module>\u001b[0;34m\u001b[0m\n\u001b[0;32m----> 1\u001b[0;31m \u001b[0;32mif\u001b[0m \u001b[0mget_error_rate\u001b[0m\u001b[0;34m(\u001b[0m\u001b[0mtest_cart\u001b[0m\u001b[0;34m,\u001b[0m \u001b[0;34m\"Performance_01.csv\"\u001b[0m\u001b[0;34m)\u001b[0m \u001b[0;34m==\u001b[0m \u001b[0;36m5\u001b[0m\u001b[0;34m:\u001b[0m\u001b[0;34m\u001b[0m\u001b[0;34m\u001b[0m\u001b[0m\n\u001b[0m\u001b[1;32m      2\u001b[0m     \u001b[0mprint\u001b[0m\u001b[0;34m(\u001b[0m\u001b[0;34m\"passed\"\u001b[0m\u001b[0;34m)\u001b[0m\u001b[0;34m\u001b[0m\u001b[0;34m\u001b[0m\u001b[0m\n\u001b[1;32m      3\u001b[0m \u001b[0;32melse\u001b[0m\u001b[0;34m:\u001b[0m\u001b[0;34m\u001b[0m\u001b[0;34m\u001b[0m\u001b[0m\n\u001b[1;32m      4\u001b[0m     \u001b[0mprint\u001b[0m\u001b[0;34m(\u001b[0m\u001b[0;34m\"failed\"\u001b[0m\u001b[0;34m)\u001b[0m\u001b[0;34m\u001b[0m\u001b[0;34m\u001b[0m\u001b[0m\n",
            "\u001b[0;32m<ipython-input-7-f1f0527dae4f>\u001b[0m in \u001b[0;36mget_error_rate\u001b[0;34m(cart, sample_set_csv)\u001b[0m\n\u001b[1;32m     34\u001b[0m     \u001b[0mdf\u001b[0m \u001b[0;34m=\u001b[0m \u001b[0mpd\u001b[0m\u001b[0;34m.\u001b[0m\u001b[0mread_csv\u001b[0m\u001b[0;34m(\u001b[0m\u001b[0msample_set_csv\u001b[0m\u001b[0;34m)\u001b[0m\u001b[0;34m\u001b[0m\u001b[0;34m\u001b[0m\u001b[0m\n\u001b[1;32m     35\u001b[0m     \u001b[0;31m# Use the CART to predict the values for the sample set\u001b[0m\u001b[0;34m\u001b[0m\u001b[0;34m\u001b[0m\u001b[0;34m\u001b[0m\u001b[0m\n\u001b[0;32m---> 36\u001b[0;31m     \u001b[0my_pred\u001b[0m \u001b[0;34m=\u001b[0m \u001b[0mcart_model\u001b[0m\u001b[0;34m.\u001b[0m\u001b[0mpredict\u001b[0m\u001b[0;34m(\u001b[0m\u001b[0mdf\u001b[0m\u001b[0;34m.\u001b[0m\u001b[0mdrop\u001b[0m\u001b[0;34m(\u001b[0m\u001b[0;34m[\u001b[0m\u001b[0;34m'performance'\u001b[0m\u001b[0;34m]\u001b[0m\u001b[0;34m,\u001b[0m \u001b[0maxis\u001b[0m\u001b[0;34m=\u001b[0m\u001b[0;36m1\u001b[0m\u001b[0;34m)\u001b[0m\u001b[0;34m)\u001b[0m\u001b[0;34m\u001b[0m\u001b[0;34m\u001b[0m\u001b[0m\n\u001b[0m\u001b[1;32m     37\u001b[0m     \u001b[0;31m# Calculate the error rate\u001b[0m\u001b[0;34m\u001b[0m\u001b[0;34m\u001b[0m\u001b[0;34m\u001b[0m\u001b[0m\n\u001b[1;32m     38\u001b[0m     \u001b[0merror\u001b[0m \u001b[0;34m=\u001b[0m \u001b[0msum\u001b[0m\u001b[0;34m(\u001b[0m\u001b[0my_pred\u001b[0m \u001b[0;34m!=\u001b[0m \u001b[0mdf\u001b[0m\u001b[0;34m[\u001b[0m\u001b[0;34m'performance'\u001b[0m\u001b[0;34m]\u001b[0m\u001b[0;34m)\u001b[0m \u001b[0;34m/\u001b[0m \u001b[0mlen\u001b[0m\u001b[0;34m(\u001b[0m\u001b[0mdf\u001b[0m\u001b[0;34m)\u001b[0m\u001b[0;34m\u001b[0m\u001b[0;34m\u001b[0m\u001b[0m\n",
            "\u001b[0;31mNameError\u001b[0m: name 'cart_model' is not defined"
          ]
        }
      ]
    },
    {
      "cell_type": "code",
      "source": [],
      "metadata": {
        "id": "L0z8If1cckuI"
      },
      "execution_count": null,
      "outputs": []
    }
  ]
}
